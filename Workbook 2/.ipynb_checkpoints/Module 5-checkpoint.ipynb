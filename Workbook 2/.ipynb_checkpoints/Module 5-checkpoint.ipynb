{
 "cells": [
  {
   "cell_type": "code",
   "execution_count": 1,
   "metadata": {},
   "outputs": [
    {
     "name": "stdout",
     "output_type": "stream",
     "text": [
      "Print function ready to serve.\n"
     ]
    }
   ],
   "source": [
    "from __future__ import print_function  # Compatability with Python 3\n",
    "print( 'Print function ready to serve.' )"
   ]
  },
  {
   "cell_type": "code",
   "execution_count": 2,
   "metadata": {},
   "outputs": [],
   "source": [
    "# NumPy for numerical computing\n",
    "import numpy as np\n",
    "\n",
    "# Pandas for DataFrames\n",
    "import pandas as pd\n",
    "pd.set_option('display.max_columns', 100)\n",
    "pd.set_option('display.float_format', lambda x: '%.3f' % x)\n",
    "\n",
    "# Matplotlib for visualization\n",
    "from matplotlib import pyplot as plt\n",
    "# display plots in the notebook\n",
    "%matplotlib inline \n",
    "\n",
    "# Seaborn for easier visualization\n",
    "import seaborn as sns\n",
    "\n",
    "# Scikit-Learn for Modeling\n",
    "import sklearn"
   ]
  },
  {
   "cell_type": "code",
   "execution_count": 3,
   "metadata": {},
   "outputs": [],
   "source": [
    "# Import Elastic Net, Ridge Regression, and Lasso Regression\n",
    "from sklearn.linear_model import ElasticNet, Ridge, Lasso\n",
    "\n",
    "# Import Random Forest and Gradient Boosted Trees\n",
    "from sklearn.ensemble import RandomForestRegressor, GradientBoostingRegressor"
   ]
  },
  {
   "cell_type": "code",
   "execution_count": 4,
   "metadata": {},
   "outputs": [
    {
     "name": "stdout",
     "output_type": "stream",
     "text": [
      "(1882, 37)\n"
     ]
    }
   ],
   "source": [
    "# Load cleaned dataset from Module 3\n",
    "df = pd.read_csv('project_files/analytical_base_table.csv')\n",
    "\n",
    "print(df.shape)"
   ]
  },
  {
   "cell_type": "code",
   "execution_count": 5,
   "metadata": {},
   "outputs": [],
   "source": [
    "# Function for splitting training and test set\n",
    "from sklearn.model_selection import train_test_split"
   ]
  },
  {
   "cell_type": "code",
   "execution_count": 6,
   "metadata": {},
   "outputs": [],
   "source": [
    "# Create separate object for target variable\n",
    "y = df.tx_price\n",
    "# Create separate object for input features\n",
    "X = df.drop('tx_price', axis=1)"
   ]
  },
  {
   "cell_type": "code",
   "execution_count": 7,
   "metadata": {},
   "outputs": [],
   "source": [
    "# Split X and y into train and test sets\n",
    "X_train, X_test, y_train, y_test = train_test_split(X, y, test_size=0.2, random_state=1234)"
   ]
  },
  {
   "cell_type": "code",
   "execution_count": 8,
   "metadata": {},
   "outputs": [
    {
     "name": "stdout",
     "output_type": "stream",
     "text": [
      "1505 377 1505 377\n"
     ]
    }
   ],
   "source": [
    "print( len(X_train), len(X_test), len(y_train), len(y_test) )"
   ]
  },
  {
   "cell_type": "code",
   "execution_count": 9,
   "metadata": {},
   "outputs": [
    {
     "data": {
      "text/html": [
       "<div>\n",
       "<style scoped>\n",
       "    .dataframe tbody tr th:only-of-type {\n",
       "        vertical-align: middle;\n",
       "    }\n",
       "\n",
       "    .dataframe tbody tr th {\n",
       "        vertical-align: top;\n",
       "    }\n",
       "\n",
       "    .dataframe thead th {\n",
       "        text-align: right;\n",
       "    }\n",
       "</style>\n",
       "<table border=\"1\" class=\"dataframe\">\n",
       "  <thead>\n",
       "    <tr style=\"text-align: right;\">\n",
       "      <th></th>\n",
       "      <th>beds</th>\n",
       "      <th>baths</th>\n",
       "      <th>sqft</th>\n",
       "      <th>lot_size</th>\n",
       "      <th>basement</th>\n",
       "      <th>restaurants</th>\n",
       "      <th>groceries</th>\n",
       "      <th>nightlife</th>\n",
       "      <th>cafes</th>\n",
       "      <th>shopping</th>\n",
       "      <th>arts_entertainment</th>\n",
       "      <th>beauty_spas</th>\n",
       "      <th>active_life</th>\n",
       "      <th>median_age</th>\n",
       "      <th>married</th>\n",
       "      <th>college_grad</th>\n",
       "      <th>property_tax</th>\n",
       "      <th>insurance</th>\n",
       "      <th>median_school</th>\n",
       "      <th>num_schools</th>\n",
       "      <th>exterior_walls_Brick</th>\n",
       "      <th>exterior_walls_Brick veneer</th>\n",
       "      <th>exterior_walls_Combination</th>\n",
       "      <th>exterior_walls_Metal</th>\n",
       "      <th>exterior_walls_Missing</th>\n",
       "      <th>exterior_walls_Other</th>\n",
       "      <th>exterior_walls_Siding (Alum/Vinyl)</th>\n",
       "      <th>exterior_walls_Wood</th>\n",
       "      <th>roof_Asphalt</th>\n",
       "      <th>roof_Composition Shingle</th>\n",
       "      <th>roof_Composition Shingles</th>\n",
       "      <th>roof_Missing</th>\n",
       "      <th>roof_Other</th>\n",
       "      <th>roof_Shake Shingle</th>\n",
       "      <th>property_type_Apartment / Condo / Townhouse</th>\n",
       "      <th>property_type_Single-Family</th>\n",
       "    </tr>\n",
       "  </thead>\n",
       "  <tbody>\n",
       "    <tr>\n",
       "      <th>count</th>\n",
       "      <td>1505.000</td>\n",
       "      <td>1505.000</td>\n",
       "      <td>1505.000</td>\n",
       "      <td>1505.000</td>\n",
       "      <td>1505.000</td>\n",
       "      <td>1505.000</td>\n",
       "      <td>1505.000</td>\n",
       "      <td>1505.000</td>\n",
       "      <td>1505.000</td>\n",
       "      <td>1505.000</td>\n",
       "      <td>1505.000</td>\n",
       "      <td>1505.000</td>\n",
       "      <td>1505.000</td>\n",
       "      <td>1505.000</td>\n",
       "      <td>1505.000</td>\n",
       "      <td>1505.000</td>\n",
       "      <td>1505.000</td>\n",
       "      <td>1505.000</td>\n",
       "      <td>1505.000</td>\n",
       "      <td>1505.000</td>\n",
       "      <td>1505.000</td>\n",
       "      <td>1505.000</td>\n",
       "      <td>1505.000</td>\n",
       "      <td>1505.000</td>\n",
       "      <td>1505.000</td>\n",
       "      <td>1505.000</td>\n",
       "      <td>1505.000</td>\n",
       "      <td>1505.000</td>\n",
       "      <td>1505.000</td>\n",
       "      <td>1505.000</td>\n",
       "      <td>1505.000</td>\n",
       "      <td>1505.000</td>\n",
       "      <td>1505.000</td>\n",
       "      <td>1505.000</td>\n",
       "      <td>1505.000</td>\n",
       "      <td>1505.000</td>\n",
       "    </tr>\n",
       "    <tr>\n",
       "      <th>mean</th>\n",
       "      <td>3.423</td>\n",
       "      <td>2.582</td>\n",
       "      <td>2317.345</td>\n",
       "      <td>12414.493</td>\n",
       "      <td>0.874</td>\n",
       "      <td>40.508</td>\n",
       "      <td>4.559</td>\n",
       "      <td>5.142</td>\n",
       "      <td>5.373</td>\n",
       "      <td>41.242</td>\n",
       "      <td>3.430</td>\n",
       "      <td>23.587</td>\n",
       "      <td>16.072</td>\n",
       "      <td>38.575</td>\n",
       "      <td>69.007</td>\n",
       "      <td>64.932</td>\n",
       "      <td>467.595</td>\n",
       "      <td>140.826</td>\n",
       "      <td>6.485</td>\n",
       "      <td>2.793</td>\n",
       "      <td>0.367</td>\n",
       "      <td>0.027</td>\n",
       "      <td>0.054</td>\n",
       "      <td>0.068</td>\n",
       "      <td>0.118</td>\n",
       "      <td>0.036</td>\n",
       "      <td>0.264</td>\n",
       "      <td>0.066</td>\n",
       "      <td>0.071</td>\n",
       "      <td>0.635</td>\n",
       "      <td>0.019</td>\n",
       "      <td>0.183</td>\n",
       "      <td>0.060</td>\n",
       "      <td>0.031</td>\n",
       "      <td>0.425</td>\n",
       "      <td>0.575</td>\n",
       "    </tr>\n",
       "    <tr>\n",
       "      <th>std</th>\n",
       "      <td>1.064</td>\n",
       "      <td>0.930</td>\n",
       "      <td>1300.074</td>\n",
       "      <td>33937.256</td>\n",
       "      <td>0.332</td>\n",
       "      <td>47.005</td>\n",
       "      <td>4.527</td>\n",
       "      <td>8.534</td>\n",
       "      <td>7.516</td>\n",
       "      <td>53.662</td>\n",
       "      <td>4.672</td>\n",
       "      <td>25.894</td>\n",
       "      <td>17.759</td>\n",
       "      <td>6.520</td>\n",
       "      <td>19.578</td>\n",
       "      <td>17.146</td>\n",
       "      <td>231.362</td>\n",
       "      <td>72.957</td>\n",
       "      <td>1.998</td>\n",
       "      <td>0.507</td>\n",
       "      <td>0.482</td>\n",
       "      <td>0.163</td>\n",
       "      <td>0.227</td>\n",
       "      <td>0.251</td>\n",
       "      <td>0.323</td>\n",
       "      <td>0.186</td>\n",
       "      <td>0.441</td>\n",
       "      <td>0.248</td>\n",
       "      <td>0.257</td>\n",
       "      <td>0.482</td>\n",
       "      <td>0.138</td>\n",
       "      <td>0.387</td>\n",
       "      <td>0.238</td>\n",
       "      <td>0.174</td>\n",
       "      <td>0.495</td>\n",
       "      <td>0.495</td>\n",
       "    </tr>\n",
       "    <tr>\n",
       "      <th>min</th>\n",
       "      <td>1.000</td>\n",
       "      <td>1.000</td>\n",
       "      <td>500.000</td>\n",
       "      <td>0.000</td>\n",
       "      <td>0.000</td>\n",
       "      <td>0.000</td>\n",
       "      <td>0.000</td>\n",
       "      <td>0.000</td>\n",
       "      <td>0.000</td>\n",
       "      <td>0.000</td>\n",
       "      <td>0.000</td>\n",
       "      <td>0.000</td>\n",
       "      <td>0.000</td>\n",
       "      <td>22.000</td>\n",
       "      <td>11.000</td>\n",
       "      <td>5.000</td>\n",
       "      <td>88.000</td>\n",
       "      <td>30.000</td>\n",
       "      <td>1.000</td>\n",
       "      <td>1.000</td>\n",
       "      <td>0.000</td>\n",
       "      <td>0.000</td>\n",
       "      <td>0.000</td>\n",
       "      <td>0.000</td>\n",
       "      <td>0.000</td>\n",
       "      <td>0.000</td>\n",
       "      <td>0.000</td>\n",
       "      <td>0.000</td>\n",
       "      <td>0.000</td>\n",
       "      <td>0.000</td>\n",
       "      <td>0.000</td>\n",
       "      <td>0.000</td>\n",
       "      <td>0.000</td>\n",
       "      <td>0.000</td>\n",
       "      <td>0.000</td>\n",
       "      <td>0.000</td>\n",
       "    </tr>\n",
       "    <tr>\n",
       "      <th>25%</th>\n",
       "      <td>3.000</td>\n",
       "      <td>2.000</td>\n",
       "      <td>1352.000</td>\n",
       "      <td>1575.000</td>\n",
       "      <td>1.000</td>\n",
       "      <td>7.000</td>\n",
       "      <td>1.000</td>\n",
       "      <td>0.000</td>\n",
       "      <td>0.000</td>\n",
       "      <td>7.000</td>\n",
       "      <td>0.000</td>\n",
       "      <td>4.000</td>\n",
       "      <td>5.000</td>\n",
       "      <td>33.000</td>\n",
       "      <td>59.000</td>\n",
       "      <td>53.000</td>\n",
       "      <td>323.000</td>\n",
       "      <td>96.000</td>\n",
       "      <td>5.000</td>\n",
       "      <td>3.000</td>\n",
       "      <td>0.000</td>\n",
       "      <td>0.000</td>\n",
       "      <td>0.000</td>\n",
       "      <td>0.000</td>\n",
       "      <td>0.000</td>\n",
       "      <td>0.000</td>\n",
       "      <td>0.000</td>\n",
       "      <td>0.000</td>\n",
       "      <td>0.000</td>\n",
       "      <td>0.000</td>\n",
       "      <td>0.000</td>\n",
       "      <td>0.000</td>\n",
       "      <td>0.000</td>\n",
       "      <td>0.000</td>\n",
       "      <td>0.000</td>\n",
       "      <td>0.000</td>\n",
       "    </tr>\n",
       "    <tr>\n",
       "      <th>50%</th>\n",
       "      <td>3.000</td>\n",
       "      <td>3.000</td>\n",
       "      <td>1908.000</td>\n",
       "      <td>6050.000</td>\n",
       "      <td>1.000</td>\n",
       "      <td>23.000</td>\n",
       "      <td>3.000</td>\n",
       "      <td>2.000</td>\n",
       "      <td>3.000</td>\n",
       "      <td>22.000</td>\n",
       "      <td>2.000</td>\n",
       "      <td>15.000</td>\n",
       "      <td>10.000</td>\n",
       "      <td>38.000</td>\n",
       "      <td>73.000</td>\n",
       "      <td>66.000</td>\n",
       "      <td>427.000</td>\n",
       "      <td>127.000</td>\n",
       "      <td>7.000</td>\n",
       "      <td>3.000</td>\n",
       "      <td>0.000</td>\n",
       "      <td>0.000</td>\n",
       "      <td>0.000</td>\n",
       "      <td>0.000</td>\n",
       "      <td>0.000</td>\n",
       "      <td>0.000</td>\n",
       "      <td>0.000</td>\n",
       "      <td>0.000</td>\n",
       "      <td>0.000</td>\n",
       "      <td>1.000</td>\n",
       "      <td>0.000</td>\n",
       "      <td>0.000</td>\n",
       "      <td>0.000</td>\n",
       "      <td>0.000</td>\n",
       "      <td>0.000</td>\n",
       "      <td>1.000</td>\n",
       "    </tr>\n",
       "    <tr>\n",
       "      <th>75%</th>\n",
       "      <td>4.000</td>\n",
       "      <td>3.000</td>\n",
       "      <td>3000.000</td>\n",
       "      <td>11761.000</td>\n",
       "      <td>1.000</td>\n",
       "      <td>58.000</td>\n",
       "      <td>7.000</td>\n",
       "      <td>6.000</td>\n",
       "      <td>7.000</td>\n",
       "      <td>51.000</td>\n",
       "      <td>5.000</td>\n",
       "      <td>35.000</td>\n",
       "      <td>21.000</td>\n",
       "      <td>43.000</td>\n",
       "      <td>84.000</td>\n",
       "      <td>78.000</td>\n",
       "      <td>573.000</td>\n",
       "      <td>171.000</td>\n",
       "      <td>8.000</td>\n",
       "      <td>3.000</td>\n",
       "      <td>1.000</td>\n",
       "      <td>0.000</td>\n",
       "      <td>0.000</td>\n",
       "      <td>0.000</td>\n",
       "      <td>0.000</td>\n",
       "      <td>0.000</td>\n",
       "      <td>1.000</td>\n",
       "      <td>0.000</td>\n",
       "      <td>0.000</td>\n",
       "      <td>1.000</td>\n",
       "      <td>0.000</td>\n",
       "      <td>0.000</td>\n",
       "      <td>0.000</td>\n",
       "      <td>0.000</td>\n",
       "      <td>1.000</td>\n",
       "      <td>1.000</td>\n",
       "    </tr>\n",
       "    <tr>\n",
       "      <th>max</th>\n",
       "      <td>5.000</td>\n",
       "      <td>6.000</td>\n",
       "      <td>7594.000</td>\n",
       "      <td>436471.000</td>\n",
       "      <td>1.000</td>\n",
       "      <td>266.000</td>\n",
       "      <td>24.000</td>\n",
       "      <td>53.000</td>\n",
       "      <td>47.000</td>\n",
       "      <td>340.000</td>\n",
       "      <td>35.000</td>\n",
       "      <td>177.000</td>\n",
       "      <td>94.000</td>\n",
       "      <td>69.000</td>\n",
       "      <td>100.000</td>\n",
       "      <td>100.000</td>\n",
       "      <td>4508.000</td>\n",
       "      <td>1374.000</td>\n",
       "      <td>10.000</td>\n",
       "      <td>4.000</td>\n",
       "      <td>1.000</td>\n",
       "      <td>1.000</td>\n",
       "      <td>1.000</td>\n",
       "      <td>1.000</td>\n",
       "      <td>1.000</td>\n",
       "      <td>1.000</td>\n",
       "      <td>1.000</td>\n",
       "      <td>1.000</td>\n",
       "      <td>1.000</td>\n",
       "      <td>1.000</td>\n",
       "      <td>1.000</td>\n",
       "      <td>1.000</td>\n",
       "      <td>1.000</td>\n",
       "      <td>1.000</td>\n",
       "      <td>1.000</td>\n",
       "      <td>1.000</td>\n",
       "    </tr>\n",
       "  </tbody>\n",
       "</table>\n",
       "</div>"
      ],
      "text/plain": [
       "          beds    baths     sqft   lot_size  basement  restaurants  groceries  \\\n",
       "count 1505.000 1505.000 1505.000   1505.000  1505.000     1505.000   1505.000   \n",
       "mean     3.423    2.582 2317.345  12414.493     0.874       40.508      4.559   \n",
       "std      1.064    0.930 1300.074  33937.256     0.332       47.005      4.527   \n",
       "min      1.000    1.000  500.000      0.000     0.000        0.000      0.000   \n",
       "25%      3.000    2.000 1352.000   1575.000     1.000        7.000      1.000   \n",
       "50%      3.000    3.000 1908.000   6050.000     1.000       23.000      3.000   \n",
       "75%      4.000    3.000 3000.000  11761.000     1.000       58.000      7.000   \n",
       "max      5.000    6.000 7594.000 436471.000     1.000      266.000     24.000   \n",
       "\n",
       "       nightlife    cafes  shopping  arts_entertainment  beauty_spas  \\\n",
       "count   1505.000 1505.000  1505.000            1505.000     1505.000   \n",
       "mean       5.142    5.373    41.242               3.430       23.587   \n",
       "std        8.534    7.516    53.662               4.672       25.894   \n",
       "min        0.000    0.000     0.000               0.000        0.000   \n",
       "25%        0.000    0.000     7.000               0.000        4.000   \n",
       "50%        2.000    3.000    22.000               2.000       15.000   \n",
       "75%        6.000    7.000    51.000               5.000       35.000   \n",
       "max       53.000   47.000   340.000              35.000      177.000   \n",
       "\n",
       "       active_life  median_age  married  college_grad  property_tax  \\\n",
       "count     1505.000    1505.000 1505.000      1505.000      1505.000   \n",
       "mean        16.072      38.575   69.007        64.932       467.595   \n",
       "std         17.759       6.520   19.578        17.146       231.362   \n",
       "min          0.000      22.000   11.000         5.000        88.000   \n",
       "25%          5.000      33.000   59.000        53.000       323.000   \n",
       "50%         10.000      38.000   73.000        66.000       427.000   \n",
       "75%         21.000      43.000   84.000        78.000       573.000   \n",
       "max         94.000      69.000  100.000       100.000      4508.000   \n",
       "\n",
       "       insurance  median_school  num_schools  exterior_walls_Brick  \\\n",
       "count   1505.000       1505.000     1505.000              1505.000   \n",
       "mean     140.826          6.485        2.793                 0.367   \n",
       "std       72.957          1.998        0.507                 0.482   \n",
       "min       30.000          1.000        1.000                 0.000   \n",
       "25%       96.000          5.000        3.000                 0.000   \n",
       "50%      127.000          7.000        3.000                 0.000   \n",
       "75%      171.000          8.000        3.000                 1.000   \n",
       "max     1374.000         10.000        4.000                 1.000   \n",
       "\n",
       "       exterior_walls_Brick veneer  exterior_walls_Combination  \\\n",
       "count                     1505.000                    1505.000   \n",
       "mean                         0.027                       0.054   \n",
       "std                          0.163                       0.227   \n",
       "min                          0.000                       0.000   \n",
       "25%                          0.000                       0.000   \n",
       "50%                          0.000                       0.000   \n",
       "75%                          0.000                       0.000   \n",
       "max                          1.000                       1.000   \n",
       "\n",
       "       exterior_walls_Metal  exterior_walls_Missing  exterior_walls_Other  \\\n",
       "count              1505.000                1505.000              1505.000   \n",
       "mean                  0.068                   0.118                 0.036   \n",
       "std                   0.251                   0.323                 0.186   \n",
       "min                   0.000                   0.000                 0.000   \n",
       "25%                   0.000                   0.000                 0.000   \n",
       "50%                   0.000                   0.000                 0.000   \n",
       "75%                   0.000                   0.000                 0.000   \n",
       "max                   1.000                   1.000                 1.000   \n",
       "\n",
       "       exterior_walls_Siding (Alum/Vinyl)  exterior_walls_Wood  roof_Asphalt  \\\n",
       "count                            1505.000             1505.000      1505.000   \n",
       "mean                                0.264                0.066         0.071   \n",
       "std                                 0.441                0.248         0.257   \n",
       "min                                 0.000                0.000         0.000   \n",
       "25%                                 0.000                0.000         0.000   \n",
       "50%                                 0.000                0.000         0.000   \n",
       "75%                                 1.000                0.000         0.000   \n",
       "max                                 1.000                1.000         1.000   \n",
       "\n",
       "       roof_Composition Shingle  roof_Composition Shingles  roof_Missing  \\\n",
       "count                  1505.000                   1505.000      1505.000   \n",
       "mean                      0.635                      0.019         0.183   \n",
       "std                       0.482                      0.138         0.387   \n",
       "min                       0.000                      0.000         0.000   \n",
       "25%                       0.000                      0.000         0.000   \n",
       "50%                       1.000                      0.000         0.000   \n",
       "75%                       1.000                      0.000         0.000   \n",
       "max                       1.000                      1.000         1.000   \n",
       "\n",
       "       roof_Other  roof_Shake Shingle  \\\n",
       "count    1505.000            1505.000   \n",
       "mean        0.060               0.031   \n",
       "std         0.238               0.174   \n",
       "min         0.000               0.000   \n",
       "25%         0.000               0.000   \n",
       "50%         0.000               0.000   \n",
       "75%         0.000               0.000   \n",
       "max         1.000               1.000   \n",
       "\n",
       "       property_type_Apartment / Condo / Townhouse  \\\n",
       "count                                     1505.000   \n",
       "mean                                         0.425   \n",
       "std                                          0.495   \n",
       "min                                          0.000   \n",
       "25%                                          0.000   \n",
       "50%                                          0.000   \n",
       "75%                                          1.000   \n",
       "max                                          1.000   \n",
       "\n",
       "       property_type_Single-Family  \n",
       "count                     1505.000  \n",
       "mean                         0.575  \n",
       "std                          0.495  \n",
       "min                          0.000  \n",
       "25%                          0.000  \n",
       "50%                          1.000  \n",
       "75%                          1.000  \n",
       "max                          1.000  "
      ]
     },
     "execution_count": 9,
     "metadata": {},
     "output_type": "execute_result"
    }
   ],
   "source": [
    "# Summary statistics of X_train\n",
    "X_train.describe()"
   ]
  },
  {
   "cell_type": "code",
   "execution_count": 10,
   "metadata": {},
   "outputs": [],
   "source": [
    "# Standardize X_train\n",
    "X_train_new = (X_train - X_train.mean()) / X_train.std()"
   ]
  },
  {
   "cell_type": "code",
   "execution_count": 11,
   "metadata": {},
   "outputs": [
    {
     "data": {
      "text/html": [
       "<div>\n",
       "<style scoped>\n",
       "    .dataframe tbody tr th:only-of-type {\n",
       "        vertical-align: middle;\n",
       "    }\n",
       "\n",
       "    .dataframe tbody tr th {\n",
       "        vertical-align: top;\n",
       "    }\n",
       "\n",
       "    .dataframe thead th {\n",
       "        text-align: right;\n",
       "    }\n",
       "</style>\n",
       "<table border=\"1\" class=\"dataframe\">\n",
       "  <thead>\n",
       "    <tr style=\"text-align: right;\">\n",
       "      <th></th>\n",
       "      <th>beds</th>\n",
       "      <th>baths</th>\n",
       "      <th>sqft</th>\n",
       "      <th>lot_size</th>\n",
       "      <th>basement</th>\n",
       "      <th>restaurants</th>\n",
       "      <th>groceries</th>\n",
       "      <th>nightlife</th>\n",
       "      <th>cafes</th>\n",
       "      <th>shopping</th>\n",
       "      <th>arts_entertainment</th>\n",
       "      <th>beauty_spas</th>\n",
       "      <th>active_life</th>\n",
       "      <th>median_age</th>\n",
       "      <th>married</th>\n",
       "      <th>college_grad</th>\n",
       "      <th>property_tax</th>\n",
       "      <th>insurance</th>\n",
       "      <th>median_school</th>\n",
       "      <th>num_schools</th>\n",
       "      <th>exterior_walls_Brick</th>\n",
       "      <th>exterior_walls_Brick veneer</th>\n",
       "      <th>exterior_walls_Combination</th>\n",
       "      <th>exterior_walls_Metal</th>\n",
       "      <th>exterior_walls_Missing</th>\n",
       "      <th>exterior_walls_Other</th>\n",
       "      <th>exterior_walls_Siding (Alum/Vinyl)</th>\n",
       "      <th>exterior_walls_Wood</th>\n",
       "      <th>roof_Asphalt</th>\n",
       "      <th>roof_Composition Shingle</th>\n",
       "      <th>roof_Composition Shingles</th>\n",
       "      <th>roof_Missing</th>\n",
       "      <th>roof_Other</th>\n",
       "      <th>roof_Shake Shingle</th>\n",
       "      <th>property_type_Apartment / Condo / Townhouse</th>\n",
       "      <th>property_type_Single-Family</th>\n",
       "    </tr>\n",
       "  </thead>\n",
       "  <tbody>\n",
       "    <tr>\n",
       "      <th>count</th>\n",
       "      <td>1505.000</td>\n",
       "      <td>1505.000</td>\n",
       "      <td>1505.000</td>\n",
       "      <td>1505.000</td>\n",
       "      <td>1505.000</td>\n",
       "      <td>1505.000</td>\n",
       "      <td>1505.000</td>\n",
       "      <td>1505.000</td>\n",
       "      <td>1505.000</td>\n",
       "      <td>1505.000</td>\n",
       "      <td>1505.000</td>\n",
       "      <td>1505.000</td>\n",
       "      <td>1505.000</td>\n",
       "      <td>1505.000</td>\n",
       "      <td>1505.000</td>\n",
       "      <td>1505.000</td>\n",
       "      <td>1505.000</td>\n",
       "      <td>1505.000</td>\n",
       "      <td>1505.000</td>\n",
       "      <td>1505.000</td>\n",
       "      <td>1505.000</td>\n",
       "      <td>1505.000</td>\n",
       "      <td>1505.000</td>\n",
       "      <td>1505.000</td>\n",
       "      <td>1505.000</td>\n",
       "      <td>1505.000</td>\n",
       "      <td>1505.000</td>\n",
       "      <td>1505.000</td>\n",
       "      <td>1505.000</td>\n",
       "      <td>1505.000</td>\n",
       "      <td>1505.000</td>\n",
       "      <td>1505.000</td>\n",
       "      <td>1505.000</td>\n",
       "      <td>1505.000</td>\n",
       "      <td>1505.000</td>\n",
       "      <td>1505.000</td>\n",
       "    </tr>\n",
       "    <tr>\n",
       "      <th>mean</th>\n",
       "      <td>0.000</td>\n",
       "      <td>-0.000</td>\n",
       "      <td>-0.000</td>\n",
       "      <td>-0.000</td>\n",
       "      <td>-0.000</td>\n",
       "      <td>0.000</td>\n",
       "      <td>-0.000</td>\n",
       "      <td>0.000</td>\n",
       "      <td>-0.000</td>\n",
       "      <td>-0.000</td>\n",
       "      <td>0.000</td>\n",
       "      <td>0.000</td>\n",
       "      <td>-0.000</td>\n",
       "      <td>0.000</td>\n",
       "      <td>0.000</td>\n",
       "      <td>-0.000</td>\n",
       "      <td>0.000</td>\n",
       "      <td>0.000</td>\n",
       "      <td>0.000</td>\n",
       "      <td>0.000</td>\n",
       "      <td>-0.000</td>\n",
       "      <td>-0.000</td>\n",
       "      <td>0.000</td>\n",
       "      <td>-0.000</td>\n",
       "      <td>-0.000</td>\n",
       "      <td>0.000</td>\n",
       "      <td>-0.000</td>\n",
       "      <td>-0.000</td>\n",
       "      <td>-0.000</td>\n",
       "      <td>-0.000</td>\n",
       "      <td>0.000</td>\n",
       "      <td>0.000</td>\n",
       "      <td>-0.000</td>\n",
       "      <td>-0.000</td>\n",
       "      <td>0.000</td>\n",
       "      <td>-0.000</td>\n",
       "    </tr>\n",
       "    <tr>\n",
       "      <th>std</th>\n",
       "      <td>1.000</td>\n",
       "      <td>1.000</td>\n",
       "      <td>1.000</td>\n",
       "      <td>1.000</td>\n",
       "      <td>1.000</td>\n",
       "      <td>1.000</td>\n",
       "      <td>1.000</td>\n",
       "      <td>1.000</td>\n",
       "      <td>1.000</td>\n",
       "      <td>1.000</td>\n",
       "      <td>1.000</td>\n",
       "      <td>1.000</td>\n",
       "      <td>1.000</td>\n",
       "      <td>1.000</td>\n",
       "      <td>1.000</td>\n",
       "      <td>1.000</td>\n",
       "      <td>1.000</td>\n",
       "      <td>1.000</td>\n",
       "      <td>1.000</td>\n",
       "      <td>1.000</td>\n",
       "      <td>1.000</td>\n",
       "      <td>1.000</td>\n",
       "      <td>1.000</td>\n",
       "      <td>1.000</td>\n",
       "      <td>1.000</td>\n",
       "      <td>1.000</td>\n",
       "      <td>1.000</td>\n",
       "      <td>1.000</td>\n",
       "      <td>1.000</td>\n",
       "      <td>1.000</td>\n",
       "      <td>1.000</td>\n",
       "      <td>1.000</td>\n",
       "      <td>1.000</td>\n",
       "      <td>1.000</td>\n",
       "      <td>1.000</td>\n",
       "      <td>1.000</td>\n",
       "    </tr>\n",
       "    <tr>\n",
       "      <th>min</th>\n",
       "      <td>-2.278</td>\n",
       "      <td>-1.700</td>\n",
       "      <td>-1.398</td>\n",
       "      <td>-0.366</td>\n",
       "      <td>-2.630</td>\n",
       "      <td>-0.862</td>\n",
       "      <td>-1.007</td>\n",
       "      <td>-0.603</td>\n",
       "      <td>-0.715</td>\n",
       "      <td>-0.769</td>\n",
       "      <td>-0.734</td>\n",
       "      <td>-0.911</td>\n",
       "      <td>-0.905</td>\n",
       "      <td>-2.542</td>\n",
       "      <td>-2.963</td>\n",
       "      <td>-3.495</td>\n",
       "      <td>-1.641</td>\n",
       "      <td>-1.519</td>\n",
       "      <td>-2.745</td>\n",
       "      <td>-3.533</td>\n",
       "      <td>-0.761</td>\n",
       "      <td>-0.167</td>\n",
       "      <td>-0.240</td>\n",
       "      <td>-0.270</td>\n",
       "      <td>-0.366</td>\n",
       "      <td>-0.193</td>\n",
       "      <td>-0.598</td>\n",
       "      <td>-0.265</td>\n",
       "      <td>-0.277</td>\n",
       "      <td>-1.317</td>\n",
       "      <td>-0.140</td>\n",
       "      <td>-0.474</td>\n",
       "      <td>-0.254</td>\n",
       "      <td>-0.179</td>\n",
       "      <td>-0.860</td>\n",
       "      <td>-1.162</td>\n",
       "    </tr>\n",
       "    <tr>\n",
       "      <th>25%</th>\n",
       "      <td>-0.398</td>\n",
       "      <td>-0.626</td>\n",
       "      <td>-0.743</td>\n",
       "      <td>-0.319</td>\n",
       "      <td>0.380</td>\n",
       "      <td>-0.713</td>\n",
       "      <td>-0.786</td>\n",
       "      <td>-0.603</td>\n",
       "      <td>-0.715</td>\n",
       "      <td>-0.638</td>\n",
       "      <td>-0.734</td>\n",
       "      <td>-0.756</td>\n",
       "      <td>-0.623</td>\n",
       "      <td>-0.855</td>\n",
       "      <td>-0.511</td>\n",
       "      <td>-0.696</td>\n",
       "      <td>-0.625</td>\n",
       "      <td>-0.614</td>\n",
       "      <td>-0.743</td>\n",
       "      <td>0.409</td>\n",
       "      <td>-0.761</td>\n",
       "      <td>-0.167</td>\n",
       "      <td>-0.240</td>\n",
       "      <td>-0.270</td>\n",
       "      <td>-0.366</td>\n",
       "      <td>-0.193</td>\n",
       "      <td>-0.598</td>\n",
       "      <td>-0.265</td>\n",
       "      <td>-0.277</td>\n",
       "      <td>-1.317</td>\n",
       "      <td>-0.140</td>\n",
       "      <td>-0.474</td>\n",
       "      <td>-0.254</td>\n",
       "      <td>-0.179</td>\n",
       "      <td>-0.860</td>\n",
       "      <td>-1.162</td>\n",
       "    </tr>\n",
       "    <tr>\n",
       "      <th>50%</th>\n",
       "      <td>-0.398</td>\n",
       "      <td>0.449</td>\n",
       "      <td>-0.315</td>\n",
       "      <td>-0.188</td>\n",
       "      <td>0.380</td>\n",
       "      <td>-0.372</td>\n",
       "      <td>-0.344</td>\n",
       "      <td>-0.368</td>\n",
       "      <td>-0.316</td>\n",
       "      <td>-0.359</td>\n",
       "      <td>-0.306</td>\n",
       "      <td>-0.332</td>\n",
       "      <td>-0.342</td>\n",
       "      <td>-0.088</td>\n",
       "      <td>0.204</td>\n",
       "      <td>0.062</td>\n",
       "      <td>-0.175</td>\n",
       "      <td>-0.190</td>\n",
       "      <td>0.258</td>\n",
       "      <td>0.409</td>\n",
       "      <td>-0.761</td>\n",
       "      <td>-0.167</td>\n",
       "      <td>-0.240</td>\n",
       "      <td>-0.270</td>\n",
       "      <td>-0.366</td>\n",
       "      <td>-0.193</td>\n",
       "      <td>-0.598</td>\n",
       "      <td>-0.265</td>\n",
       "      <td>-0.277</td>\n",
       "      <td>0.759</td>\n",
       "      <td>-0.140</td>\n",
       "      <td>-0.474</td>\n",
       "      <td>-0.254</td>\n",
       "      <td>-0.179</td>\n",
       "      <td>-0.860</td>\n",
       "      <td>0.860</td>\n",
       "    </tr>\n",
       "    <tr>\n",
       "      <th>75%</th>\n",
       "      <td>0.542</td>\n",
       "      <td>0.449</td>\n",
       "      <td>0.525</td>\n",
       "      <td>-0.019</td>\n",
       "      <td>0.380</td>\n",
       "      <td>0.372</td>\n",
       "      <td>0.539</td>\n",
       "      <td>0.101</td>\n",
       "      <td>0.217</td>\n",
       "      <td>0.182</td>\n",
       "      <td>0.336</td>\n",
       "      <td>0.441</td>\n",
       "      <td>0.277</td>\n",
       "      <td>0.679</td>\n",
       "      <td>0.766</td>\n",
       "      <td>0.762</td>\n",
       "      <td>0.456</td>\n",
       "      <td>0.414</td>\n",
       "      <td>0.758</td>\n",
       "      <td>0.409</td>\n",
       "      <td>1.314</td>\n",
       "      <td>-0.167</td>\n",
       "      <td>-0.240</td>\n",
       "      <td>-0.270</td>\n",
       "      <td>-0.366</td>\n",
       "      <td>-0.193</td>\n",
       "      <td>1.670</td>\n",
       "      <td>-0.265</td>\n",
       "      <td>-0.277</td>\n",
       "      <td>0.759</td>\n",
       "      <td>-0.140</td>\n",
       "      <td>-0.474</td>\n",
       "      <td>-0.254</td>\n",
       "      <td>-0.179</td>\n",
       "      <td>1.162</td>\n",
       "      <td>0.860</td>\n",
       "    </tr>\n",
       "    <tr>\n",
       "      <th>max</th>\n",
       "      <td>1.482</td>\n",
       "      <td>3.673</td>\n",
       "      <td>4.059</td>\n",
       "      <td>12.495</td>\n",
       "      <td>0.380</td>\n",
       "      <td>4.797</td>\n",
       "      <td>4.294</td>\n",
       "      <td>5.608</td>\n",
       "      <td>5.538</td>\n",
       "      <td>5.567</td>\n",
       "      <td>6.757</td>\n",
       "      <td>5.925</td>\n",
       "      <td>4.388</td>\n",
       "      <td>4.667</td>\n",
       "      <td>1.583</td>\n",
       "      <td>2.045</td>\n",
       "      <td>17.464</td>\n",
       "      <td>16.903</td>\n",
       "      <td>1.759</td>\n",
       "      <td>2.379</td>\n",
       "      <td>1.314</td>\n",
       "      <td>5.974</td>\n",
       "      <td>4.164</td>\n",
       "      <td>3.708</td>\n",
       "      <td>2.729</td>\n",
       "      <td>5.182</td>\n",
       "      <td>1.670</td>\n",
       "      <td>3.767</td>\n",
       "      <td>3.613</td>\n",
       "      <td>0.759</td>\n",
       "      <td>7.132</td>\n",
       "      <td>2.109</td>\n",
       "      <td>3.941</td>\n",
       "      <td>5.568</td>\n",
       "      <td>1.162</td>\n",
       "      <td>0.860</td>\n",
       "    </tr>\n",
       "  </tbody>\n",
       "</table>\n",
       "</div>"
      ],
      "text/plain": [
       "          beds    baths     sqft  lot_size  basement  restaurants  groceries  \\\n",
       "count 1505.000 1505.000 1505.000  1505.000  1505.000     1505.000   1505.000   \n",
       "mean     0.000   -0.000   -0.000    -0.000    -0.000        0.000     -0.000   \n",
       "std      1.000    1.000    1.000     1.000     1.000        1.000      1.000   \n",
       "min     -2.278   -1.700   -1.398    -0.366    -2.630       -0.862     -1.007   \n",
       "25%     -0.398   -0.626   -0.743    -0.319     0.380       -0.713     -0.786   \n",
       "50%     -0.398    0.449   -0.315    -0.188     0.380       -0.372     -0.344   \n",
       "75%      0.542    0.449    0.525    -0.019     0.380        0.372      0.539   \n",
       "max      1.482    3.673    4.059    12.495     0.380        4.797      4.294   \n",
       "\n",
       "       nightlife    cafes  shopping  arts_entertainment  beauty_spas  \\\n",
       "count   1505.000 1505.000  1505.000            1505.000     1505.000   \n",
       "mean       0.000   -0.000    -0.000               0.000        0.000   \n",
       "std        1.000    1.000     1.000               1.000        1.000   \n",
       "min       -0.603   -0.715    -0.769              -0.734       -0.911   \n",
       "25%       -0.603   -0.715    -0.638              -0.734       -0.756   \n",
       "50%       -0.368   -0.316    -0.359              -0.306       -0.332   \n",
       "75%        0.101    0.217     0.182               0.336        0.441   \n",
       "max        5.608    5.538     5.567               6.757        5.925   \n",
       "\n",
       "       active_life  median_age  married  college_grad  property_tax  \\\n",
       "count     1505.000    1505.000 1505.000      1505.000      1505.000   \n",
       "mean        -0.000       0.000    0.000        -0.000         0.000   \n",
       "std          1.000       1.000    1.000         1.000         1.000   \n",
       "min         -0.905      -2.542   -2.963        -3.495        -1.641   \n",
       "25%         -0.623      -0.855   -0.511        -0.696        -0.625   \n",
       "50%         -0.342      -0.088    0.204         0.062        -0.175   \n",
       "75%          0.277       0.679    0.766         0.762         0.456   \n",
       "max          4.388       4.667    1.583         2.045        17.464   \n",
       "\n",
       "       insurance  median_school  num_schools  exterior_walls_Brick  \\\n",
       "count   1505.000       1505.000     1505.000              1505.000   \n",
       "mean       0.000          0.000        0.000                -0.000   \n",
       "std        1.000          1.000        1.000                 1.000   \n",
       "min       -1.519         -2.745       -3.533                -0.761   \n",
       "25%       -0.614         -0.743        0.409                -0.761   \n",
       "50%       -0.190          0.258        0.409                -0.761   \n",
       "75%        0.414          0.758        0.409                 1.314   \n",
       "max       16.903          1.759        2.379                 1.314   \n",
       "\n",
       "       exterior_walls_Brick veneer  exterior_walls_Combination  \\\n",
       "count                     1505.000                    1505.000   \n",
       "mean                        -0.000                       0.000   \n",
       "std                          1.000                       1.000   \n",
       "min                         -0.167                      -0.240   \n",
       "25%                         -0.167                      -0.240   \n",
       "50%                         -0.167                      -0.240   \n",
       "75%                         -0.167                      -0.240   \n",
       "max                          5.974                       4.164   \n",
       "\n",
       "       exterior_walls_Metal  exterior_walls_Missing  exterior_walls_Other  \\\n",
       "count              1505.000                1505.000              1505.000   \n",
       "mean                 -0.000                  -0.000                 0.000   \n",
       "std                   1.000                   1.000                 1.000   \n",
       "min                  -0.270                  -0.366                -0.193   \n",
       "25%                  -0.270                  -0.366                -0.193   \n",
       "50%                  -0.270                  -0.366                -0.193   \n",
       "75%                  -0.270                  -0.366                -0.193   \n",
       "max                   3.708                   2.729                 5.182   \n",
       "\n",
       "       exterior_walls_Siding (Alum/Vinyl)  exterior_walls_Wood  roof_Asphalt  \\\n",
       "count                            1505.000             1505.000      1505.000   \n",
       "mean                               -0.000               -0.000        -0.000   \n",
       "std                                 1.000                1.000         1.000   \n",
       "min                                -0.598               -0.265        -0.277   \n",
       "25%                                -0.598               -0.265        -0.277   \n",
       "50%                                -0.598               -0.265        -0.277   \n",
       "75%                                 1.670               -0.265        -0.277   \n",
       "max                                 1.670                3.767         3.613   \n",
       "\n",
       "       roof_Composition Shingle  roof_Composition Shingles  roof_Missing  \\\n",
       "count                  1505.000                   1505.000      1505.000   \n",
       "mean                     -0.000                      0.000         0.000   \n",
       "std                       1.000                      1.000         1.000   \n",
       "min                      -1.317                     -0.140        -0.474   \n",
       "25%                      -1.317                     -0.140        -0.474   \n",
       "50%                       0.759                     -0.140        -0.474   \n",
       "75%                       0.759                     -0.140        -0.474   \n",
       "max                       0.759                      7.132         2.109   \n",
       "\n",
       "       roof_Other  roof_Shake Shingle  \\\n",
       "count    1505.000            1505.000   \n",
       "mean       -0.000              -0.000   \n",
       "std         1.000               1.000   \n",
       "min        -0.254              -0.179   \n",
       "25%        -0.254              -0.179   \n",
       "50%        -0.254              -0.179   \n",
       "75%        -0.254              -0.179   \n",
       "max         3.941               5.568   \n",
       "\n",
       "       property_type_Apartment / Condo / Townhouse  \\\n",
       "count                                     1505.000   \n",
       "mean                                         0.000   \n",
       "std                                          1.000   \n",
       "min                                         -0.860   \n",
       "25%                                         -0.860   \n",
       "50%                                         -0.860   \n",
       "75%                                          1.162   \n",
       "max                                          1.162   \n",
       "\n",
       "       property_type_Single-Family  \n",
       "count                     1505.000  \n",
       "mean                        -0.000  \n",
       "std                          1.000  \n",
       "min                         -1.162  \n",
       "25%                         -1.162  \n",
       "50%                          0.860  \n",
       "75%                          0.860  \n",
       "max                          0.860  "
      ]
     },
     "execution_count": 11,
     "metadata": {},
     "output_type": "execute_result"
    }
   ],
   "source": [
    "# Summary statistics of X_train_new\n",
    "X_train_new.describe()"
   ]
  },
  {
   "cell_type": "code",
   "execution_count": 12,
   "metadata": {},
   "outputs": [],
   "source": [
    "# Function for creating model pipelines\n",
    "from sklearn.pipeline import make_pipeline"
   ]
  },
  {
   "cell_type": "code",
   "execution_count": 13,
   "metadata": {},
   "outputs": [],
   "source": [
    "# For standardization\n",
    "from sklearn.preprocessing import StandardScaler"
   ]
  },
  {
   "cell_type": "code",
   "execution_count": 14,
   "metadata": {},
   "outputs": [],
   "source": [
    "# Create pipelines dictionary\n",
    "pipeline_dict = { 'lasso' : make_pipeline(StandardScaler(), Lasso(random_state=123)),\n",
    "                 'ridge' : make_pipeline(StandardScaler(), Ridge(random_state=123)),\n",
    "                 'enet' : make_pipeline(StandardScaler(), ElasticNet(random_state=123)) }"
   ]
  },
  {
   "cell_type": "code",
   "execution_count": 15,
   "metadata": {},
   "outputs": [],
   "source": [
    "# Add a pipeline for 'rf'\n",
    "pipeline_dict['rf'] = make_pipeline(StandardScaler(), RandomForestRegressor(random_state=123))\n",
    "# Add a pipeline for 'gb'\n",
    "pipeline_dict['gb'] = make_pipeline(StandardScaler(), GradientBoostingRegressor(random_state=123))"
   ]
  },
  {
   "cell_type": "code",
   "execution_count": 16,
   "metadata": {},
   "outputs": [
    {
     "name": "stdout",
     "output_type": "stream",
     "text": [
      "lasso <class 'sklearn.pipeline.Pipeline'>\n",
      "ridge <class 'sklearn.pipeline.Pipeline'>\n",
      "enet <class 'sklearn.pipeline.Pipeline'>\n",
      "rf <class 'sklearn.pipeline.Pipeline'>\n",
      "gb <class 'sklearn.pipeline.Pipeline'>\n"
     ]
    }
   ],
   "source": [
    "# Check that we have all 5 algorithms, and that they are all pipelines\n",
    "for key, value in pipeline_dict.items():\n",
    "    print( key, type(value) )"
   ]
  },
  {
   "cell_type": "code",
   "execution_count": 17,
   "metadata": {},
   "outputs": [
    {
     "data": {
      "text/plain": [
       "{'memory': None,\n",
       " 'steps': [('standardscaler',\n",
       "   StandardScaler(copy=True, with_mean=True, with_std=True)),\n",
       "  ('lasso', Lasso(alpha=1.0, copy_X=True, fit_intercept=True, max_iter=1000,\n",
       "      normalize=False, positive=False, precompute=False, random_state=123,\n",
       "      selection='cyclic', tol=0.0001, warm_start=False))],\n",
       " 'standardscaler': StandardScaler(copy=True, with_mean=True, with_std=True),\n",
       " 'lasso': Lasso(alpha=1.0, copy_X=True, fit_intercept=True, max_iter=1000,\n",
       "    normalize=False, positive=False, precompute=False, random_state=123,\n",
       "    selection='cyclic', tol=0.0001, warm_start=False),\n",
       " 'standardscaler__copy': True,\n",
       " 'standardscaler__with_mean': True,\n",
       " 'standardscaler__with_std': True,\n",
       " 'lasso__alpha': 1.0,\n",
       " 'lasso__copy_X': True,\n",
       " 'lasso__fit_intercept': True,\n",
       " 'lasso__max_iter': 1000,\n",
       " 'lasso__normalize': False,\n",
       " 'lasso__positive': False,\n",
       " 'lasso__precompute': False,\n",
       " 'lasso__random_state': 123,\n",
       " 'lasso__selection': 'cyclic',\n",
       " 'lasso__tol': 0.0001,\n",
       " 'lasso__warm_start': False}"
      ]
     },
     "execution_count": 17,
     "metadata": {},
     "output_type": "execute_result"
    }
   ],
   "source": [
    "# List tuneable hyperparameters of our Lasso pipeline\n",
    "pipeline_dict['lasso'].get_params()"
   ]
  },
  {
   "cell_type": "code",
   "execution_count": 18,
   "metadata": {},
   "outputs": [],
   "source": [
    "# Lasso hyperparameters\n",
    "lasso_hyperparameters = { 'lasso__alpha' : [0.001, 0.005, 0.01, 0.05, 0.1, 0.5, 1, 5, 10] }\n",
    "\n",
    "# Ridge hyperparameters \n",
    "ridge_hyperparameters = { 'ridge__alpha': [0.001, 0.005, 0.01, 0.05, 0.1, 0.5, 1, 5, 10] }"
   ]
  },
  {
   "cell_type": "code",
   "execution_count": 19,
   "metadata": {},
   "outputs": [],
   "source": [
    "# Elastic Net hyperparameters\n",
    "enet_hyperparameters = { 'elasticnet__alpha': [0.001, 0.005, 0.01, 0.05, 0.1, 0.5, 1, 5, 10], \n",
    "                       'elasticnet__l1_ratio': [0.1, 0.3, 0.5, 0.7, 0.9]}"
   ]
  },
  {
   "cell_type": "code",
   "execution_count": 20,
   "metadata": {},
   "outputs": [
    {
     "ename": "SyntaxError",
     "evalue": "unexpected EOF while parsing (<ipython-input-20-5cf8f90fc0cb>, line 4)",
     "output_type": "error",
     "traceback": [
      "\u001b[1;36m  File \u001b[1;32m\"<ipython-input-20-5cf8f90fc0cb>\"\u001b[1;36m, line \u001b[1;32m4\u001b[0m\n\u001b[1;33m    'randomforestregressor__max_features': ['auto', 'sqrt', 0.33],\u001b[0m\n\u001b[1;37m                                                                  ^\u001b[0m\n\u001b[1;31mSyntaxError\u001b[0m\u001b[1;31m:\u001b[0m unexpected EOF while parsing\n"
     ]
    }
   ],
   "source": [
    "# Random forest hyperparameters\n",
    "rf_hyperparameters = { \n",
    "    'randomforestregressor__n_estimators' : [100, 200],\n",
    "    'randomforestregressor__max_features': ['auto', 'sqrt', 0.33],"
   ]
  },
  {
   "cell_type": "code",
   "execution_count": 21,
   "metadata": {},
   "outputs": [
    {
     "ename": "SyntaxError",
     "evalue": "unexpected EOF while parsing (<ipython-input-21-5cf8f90fc0cb>, line 4)",
     "output_type": "error",
     "traceback": [
      "\u001b[1;36m  File \u001b[1;32m\"<ipython-input-21-5cf8f90fc0cb>\"\u001b[1;36m, line \u001b[1;32m4\u001b[0m\n\u001b[1;33m    'randomforestregressor__max_features': ['auto', 'sqrt', 0.33],\u001b[0m\n\u001b[1;37m                                                                  ^\u001b[0m\n\u001b[1;31mSyntaxError\u001b[0m\u001b[1;31m:\u001b[0m unexpected EOF while parsing\n"
     ]
    }
   ],
   "source": [
    "# Random forest hyperparameters\n",
    "rf_hyperparameters = { \n",
    "    'randomforestregressor__n_estimators' : [100, 200],\n",
    "    'randomforestregressor__max_features': ['auto', 'sqrt', 0.33],"
   ]
  },
  {
   "cell_type": "code",
   "execution_count": 22,
   "metadata": {},
   "outputs": [],
   "source": [
    "# Random forest hyperparameters\n",
    "rf_hyperparameters = { \n",
    "    'randomforestregressor__n_estimators' : [100, 200],\n",
    "    'randomforestregressor__max_features': ['auto', 'sqrt', 0.33],\n",
    "}"
   ]
  },
  {
   "cell_type": "code",
   "execution_count": 23,
   "metadata": {},
   "outputs": [],
   "source": [
    "# Boosted tree hyperparameters\n",
    "gb_hyperparameters = { 'gradientboostingregressor__n_estimators': [100, 200],\n",
    "                     'gradientboostingregressor__learning_rate': [0.05, 0.1, 0.2],\n",
    "                     'gradientboostingregressor__max_depth': [1, 3, 5]}"
   ]
  },
  {
   "cell_type": "code",
   "execution_count": 24,
   "metadata": {},
   "outputs": [],
   "source": [
    "# Create hyperparameters dictionary\n",
    "hyperparameters = {\n",
    "    'rf' : rf_hyperparameters,\n",
    "    'gb' : gb_hyperparameters,\n",
    "    'lasso' : lasso_hyperparameters,\n",
    "    'ridge' : ridge_hyperparameters,\n",
    "    'enet' : enet_hyperparameters\n",
    "}"
   ]
  },
  {
   "cell_type": "code",
   "execution_count": 25,
   "metadata": {},
   "outputs": [
    {
     "name": "stdout",
     "output_type": "stream",
     "text": [
      "enet was found in hyperparameters, and it is a grid.\n",
      "gb was found in hyperparameters, and it is a grid.\n",
      "ridge was found in hyperparameters, and it is a grid.\n",
      "rf was found in hyperparameters, and it is a grid.\n",
      "lasso was found in hyperparameters, and it is a grid.\n"
     ]
    }
   ],
   "source": [
    "for key in ['enet', 'gb', 'ridge', 'rf', 'lasso']:\n",
    "    if key in hyperparameters:\n",
    "        if type(hyperparameters[key]) is dict:\n",
    "            print( key, 'was found in hyperparameters, and it is a grid.' )\n",
    "        else:\n",
    "            print( key, 'was found in hyperparameters, but it is not a grid.' )\n",
    "    else:\n",
    "        print( key, 'was not found in hyperparameters')"
   ]
  },
  {
   "cell_type": "code",
   "execution_count": 26,
   "metadata": {},
   "outputs": [],
   "source": [
    "# Helper for cross-validation\n",
    "from sklearn.model_selection import GridSearchCV"
   ]
  },
  {
   "cell_type": "code",
   "execution_count": 27,
   "metadata": {},
   "outputs": [],
   "source": [
    "# Create cross-validation object from Lasso pipeline and Lasso hyperparameters\n",
    "model = GridSearchCV(pipeline_dict['lasso'], hyperparameters['lasso'], cv=10, n_jobs=-1)"
   ]
  },
  {
   "cell_type": "code",
   "execution_count": 28,
   "metadata": {},
   "outputs": [
    {
     "name": "stderr",
     "output_type": "stream",
     "text": [
      "C:\\Users\\KADEJO FOLASADE\\Anaconda3\\lib\\site-packages\\sklearn\\preprocessing\\data.py:625: DataConversionWarning: Data with input dtype int64, float64 were all converted to float64 by StandardScaler.\n",
      "  return self.partial_fit(X, y)\n",
      "C:\\Users\\KADEJO FOLASADE\\Anaconda3\\lib\\site-packages\\sklearn\\base.py:465: DataConversionWarning: Data with input dtype int64, float64 were all converted to float64 by StandardScaler.\n",
      "  return self.fit(X, y, **fit_params).transform(X)\n",
      "C:\\Users\\KADEJO FOLASADE\\Anaconda3\\lib\\site-packages\\sklearn\\linear_model\\coordinate_descent.py:492: ConvergenceWarning: Objective did not converge. You might want to increase the number of iterations. Fitting data with very small alpha may cause precision problems.\n",
      "  ConvergenceWarning)\n"
     ]
    },
    {
     "data": {
      "text/plain": [
       "GridSearchCV(cv=10, error_score='raise-deprecating',\n",
       "       estimator=Pipeline(memory=None,\n",
       "     steps=[('standardscaler', StandardScaler(copy=True, with_mean=True, with_std=True)), ('lasso', Lasso(alpha=1.0, copy_X=True, fit_intercept=True, max_iter=1000,\n",
       "   normalize=False, positive=False, precompute=False, random_state=123,\n",
       "   selection='cyclic', tol=0.0001, warm_start=False))]),\n",
       "       fit_params=None, iid='warn', n_jobs=-1,\n",
       "       param_grid={'lasso__alpha': [0.001, 0.005, 0.01, 0.05, 0.1, 0.5, 1, 5, 10]},\n",
       "       pre_dispatch='2*n_jobs', refit=True, return_train_score='warn',\n",
       "       scoring=None, verbose=0)"
      ]
     },
     "execution_count": 28,
     "metadata": {},
     "output_type": "execute_result"
    }
   ],
   "source": [
    "# Fit and tune model\n",
    "model.fit(X_train, y_train)"
   ]
  },
  {
   "cell_type": "code",
   "execution_count": 29,
   "metadata": {},
   "outputs": [
    {
     "name": "stderr",
     "output_type": "stream",
     "text": [
      "C:\\Users\\KADEJO FOLASADE\\Anaconda3\\lib\\site-packages\\sklearn\\preprocessing\\data.py:625: DataConversionWarning: Data with input dtype int64, float64 were all converted to float64 by StandardScaler.\n",
      "  return self.partial_fit(X, y)\n",
      "C:\\Users\\KADEJO FOLASADE\\Anaconda3\\lib\\site-packages\\sklearn\\base.py:465: DataConversionWarning: Data with input dtype int64, float64 were all converted to float64 by StandardScaler.\n",
      "  return self.fit(X, y, **fit_params).transform(X)\n",
      "C:\\Users\\KADEJO FOLASADE\\Anaconda3\\lib\\site-packages\\sklearn\\linear_model\\coordinate_descent.py:492: ConvergenceWarning: Objective did not converge. You might want to increase the number of iterations. Fitting data with very small alpha may cause precision problems.\n",
      "  ConvergenceWarning)\n"
     ]
    },
    {
     "name": "stdout",
     "output_type": "stream",
     "text": [
      "lasso has been fitted.\n"
     ]
    },
    {
     "name": "stderr",
     "output_type": "stream",
     "text": [
      "C:\\Users\\KADEJO FOLASADE\\Anaconda3\\lib\\site-packages\\sklearn\\preprocessing\\data.py:625: DataConversionWarning: Data with input dtype int64, float64 were all converted to float64 by StandardScaler.\n",
      "  return self.partial_fit(X, y)\n",
      "C:\\Users\\KADEJO FOLASADE\\Anaconda3\\lib\\site-packages\\sklearn\\base.py:465: DataConversionWarning: Data with input dtype int64, float64 were all converted to float64 by StandardScaler.\n",
      "  return self.fit(X, y, **fit_params).transform(X)\n"
     ]
    },
    {
     "name": "stdout",
     "output_type": "stream",
     "text": [
      "ridge has been fitted.\n"
     ]
    },
    {
     "name": "stderr",
     "output_type": "stream",
     "text": [
      "C:\\Users\\KADEJO FOLASADE\\Anaconda3\\lib\\site-packages\\sklearn\\preprocessing\\data.py:625: DataConversionWarning: Data with input dtype int64, float64 were all converted to float64 by StandardScaler.\n",
      "  return self.partial_fit(X, y)\n",
      "C:\\Users\\KADEJO FOLASADE\\Anaconda3\\lib\\site-packages\\sklearn\\base.py:465: DataConversionWarning: Data with input dtype int64, float64 were all converted to float64 by StandardScaler.\n",
      "  return self.fit(X, y, **fit_params).transform(X)\n"
     ]
    },
    {
     "name": "stdout",
     "output_type": "stream",
     "text": [
      "enet has been fitted.\n"
     ]
    },
    {
     "name": "stderr",
     "output_type": "stream",
     "text": [
      "C:\\Users\\KADEJO FOLASADE\\Anaconda3\\lib\\site-packages\\sklearn\\preprocessing\\data.py:625: DataConversionWarning: Data with input dtype int64, float64 were all converted to float64 by StandardScaler.\n",
      "  return self.partial_fit(X, y)\n",
      "C:\\Users\\KADEJO FOLASADE\\Anaconda3\\lib\\site-packages\\sklearn\\base.py:465: DataConversionWarning: Data with input dtype int64, float64 were all converted to float64 by StandardScaler.\n",
      "  return self.fit(X, y, **fit_params).transform(X)\n"
     ]
    },
    {
     "name": "stdout",
     "output_type": "stream",
     "text": [
      "rf has been fitted.\n",
      "gb has been fitted.\n"
     ]
    },
    {
     "name": "stderr",
     "output_type": "stream",
     "text": [
      "C:\\Users\\KADEJO FOLASADE\\Anaconda3\\lib\\site-packages\\sklearn\\preprocessing\\data.py:625: DataConversionWarning: Data with input dtype int64, float64 were all converted to float64 by StandardScaler.\n",
      "  return self.partial_fit(X, y)\n",
      "C:\\Users\\KADEJO FOLASADE\\Anaconda3\\lib\\site-packages\\sklearn\\base.py:465: DataConversionWarning: Data with input dtype int64, float64 were all converted to float64 by StandardScaler.\n",
      "  return self.fit(X, y, **fit_params).transform(X)\n"
     ]
    }
   ],
   "source": [
    "# Create empty dictionary called fitted_models\n",
    "fitted_models = {}\n",
    "\n",
    "# Loop through model pipelines, tuning each one and saving it to fitted_models\n",
    "for name, pipeline in pipeline_dict.items():\n",
    "    # Create cross-validation object from pipeline and hyperparameters\n",
    "    model = GridSearchCV(pipeline, hyperparameters[name], cv=10, n_jobs=-1)\n",
    "    \n",
    "    # Fit model on X_train, y_train\n",
    "    model.fit(X_train, y_train)\n",
    "    \n",
    "    # Store model in fitted_models[name] \n",
    "    fitted_models[name] = model\n",
    "    \n",
    "    # Print '{name} has been fitted'\n",
    "    print(name, 'has been fitted.')"
   ]
  },
  {
   "cell_type": "code",
   "execution_count": 30,
   "metadata": {},
   "outputs": [
    {
     "name": "stdout",
     "output_type": "stream",
     "text": [
      "lasso <class 'sklearn.model_selection._search.GridSearchCV'>\n",
      "ridge <class 'sklearn.model_selection._search.GridSearchCV'>\n",
      "enet <class 'sklearn.model_selection._search.GridSearchCV'>\n",
      "rf <class 'sklearn.model_selection._search.GridSearchCV'>\n",
      "gb <class 'sklearn.model_selection._search.GridSearchCV'>\n"
     ]
    }
   ],
   "source": [
    "# Check that we have 5 cross-validation objects\n",
    "for key, value in fitted_models.items():\n",
    "    print( key, type(value) )"
   ]
  },
  {
   "cell_type": "code",
   "execution_count": 31,
   "metadata": {},
   "outputs": [
    {
     "name": "stdout",
     "output_type": "stream",
     "text": [
      "lasso has been fitted.\n",
      "ridge has been fitted.\n",
      "enet has been fitted.\n",
      "rf has been fitted.\n",
      "gb has been fitted.\n"
     ]
    },
    {
     "name": "stderr",
     "output_type": "stream",
     "text": [
      "C:\\Users\\KADEJO FOLASADE\\Anaconda3\\lib\\site-packages\\sklearn\\pipeline.py:331: DataConversionWarning: Data with input dtype int64, float64 were all converted to float64 by StandardScaler.\n",
      "  Xt = transform.transform(Xt)\n",
      "C:\\Users\\KADEJO FOLASADE\\Anaconda3\\lib\\site-packages\\sklearn\\pipeline.py:331: DataConversionWarning: Data with input dtype int64, float64 were all converted to float64 by StandardScaler.\n",
      "  Xt = transform.transform(Xt)\n",
      "C:\\Users\\KADEJO FOLASADE\\Anaconda3\\lib\\site-packages\\sklearn\\pipeline.py:331: DataConversionWarning: Data with input dtype int64, float64 were all converted to float64 by StandardScaler.\n",
      "  Xt = transform.transform(Xt)\n",
      "C:\\Users\\KADEJO FOLASADE\\Anaconda3\\lib\\site-packages\\sklearn\\pipeline.py:331: DataConversionWarning: Data with input dtype int64, float64 were all converted to float64 by StandardScaler.\n",
      "  Xt = transform.transform(Xt)\n",
      "C:\\Users\\KADEJO FOLASADE\\Anaconda3\\lib\\site-packages\\sklearn\\pipeline.py:331: DataConversionWarning: Data with input dtype int64, float64 were all converted to float64 by StandardScaler.\n",
      "  Xt = transform.transform(Xt)\n"
     ]
    }
   ],
   "source": [
    "from sklearn.exceptions import NotFittedError\n",
    "\n",
    "for name, model in fitted_models.items():\n",
    "    try:\n",
    "        pred = model.predict(X_test)\n",
    "        print(name, 'has been fitted.')\n",
    "    except NotFittedError as e:\n",
    "        print(repr(e))"
   ]
  },
  {
   "cell_type": "code",
   "execution_count": 32,
   "metadata": {},
   "outputs": [
    {
     "name": "stdout",
     "output_type": "stream",
     "text": [
      "lasso 0.3172075200282584\n",
      "ridge 0.32218100854029064\n",
      "enet 0.33839746644773167\n",
      "rf 0.4555617875122998\n",
      "gb 0.47456064694035044\n"
     ]
    }
   ],
   "source": [
    "# Display best_score_ for each fitted model\n",
    "for name, model in fitted_models.items():\n",
    "    print(name, model.best_score_)"
   ]
  },
  {
   "cell_type": "code",
   "execution_count": 33,
   "metadata": {},
   "outputs": [],
   "source": [
    "# Import r2_score and mean_absolute_error functions\n",
    "from sklearn.metrics import r2_score \n",
    "from sklearn.metrics import mean_absolute_error"
   ]
  },
  {
   "cell_type": "code",
   "execution_count": 34,
   "metadata": {},
   "outputs": [
    {
     "data": {
      "text/plain": [
       "GridSearchCV(cv=10, error_score='raise-deprecating',\n",
       "       estimator=Pipeline(memory=None,\n",
       "     steps=[('standardscaler', StandardScaler(copy=True, with_mean=True, with_std=True)), ('randomforestregressor', RandomForestRegressor(bootstrap=True, criterion='mse', max_depth=None,\n",
       "           max_features='auto', max_leaf_nodes=None,\n",
       "           min_impurity_decrease=0.0, min_impurity_split=None,\n",
       "  ...rs='warn', n_jobs=None,\n",
       "           oob_score=False, random_state=123, verbose=0, warm_start=False))]),\n",
       "       fit_params=None, iid='warn', n_jobs=-1,\n",
       "       param_grid={'randomforestregressor__n_estimators': [100, 200], 'randomforestregressor__max_features': ['auto', 'sqrt', 0.33]},\n",
       "       pre_dispatch='2*n_jobs', refit=True, return_train_score='warn',\n",
       "       scoring=None, verbose=0)"
      ]
     },
     "execution_count": 34,
     "metadata": {},
     "output_type": "execute_result"
    }
   ],
   "source": [
    "# Display fitted random forest object\n",
    "fitted_models['rf']"
   ]
  },
  {
   "cell_type": "code",
   "execution_count": 35,
   "metadata": {},
   "outputs": [
    {
     "name": "stderr",
     "output_type": "stream",
     "text": [
      "C:\\Users\\KADEJO FOLASADE\\Anaconda3\\lib\\site-packages\\sklearn\\pipeline.py:331: DataConversionWarning: Data with input dtype int64, float64 were all converted to float64 by StandardScaler.\n",
      "  Xt = transform.transform(Xt)\n"
     ]
    }
   ],
   "source": [
    "# Predict test set using fitted random forest\n",
    "pred = fitted_models['rf'].predict(X_test)"
   ]
  },
  {
   "cell_type": "code",
   "execution_count": 36,
   "metadata": {},
   "outputs": [
    {
     "name": "stdout",
     "output_type": "stream",
     "text": [
      "R^2:  0.46293692342334447\n",
      "MAE:  79577.82661803713\n"
     ]
    }
   ],
   "source": [
    "# Calculate and print R^2 and MAE\n",
    "print('R^2: ', r2_score(y_test, pred))\n",
    "print('MAE: ', mean_absolute_error(y_test, pred))"
   ]
  },
  {
   "cell_type": "code",
   "execution_count": 37,
   "metadata": {},
   "outputs": [
    {
     "ename": "AttributeError",
     "evalue": "'numpy.ndarray' object has no attribute 'to_csv'",
     "output_type": "error",
     "traceback": [
      "\u001b[1;31m---------------------------------------------------------------------------\u001b[0m",
      "\u001b[1;31mAttributeError\u001b[0m                            Traceback (most recent call last)",
      "\u001b[1;32m<ipython-input-37-97664b283ace>\u001b[0m in \u001b[0;36m<module>\u001b[1;34m\u001b[0m\n\u001b[0;32m      1\u001b[0m \u001b[1;31m#To export prediction in CSV\u001b[0m\u001b[1;33m\u001b[0m\u001b[1;33m\u001b[0m\u001b[1;33m\u001b[0m\u001b[0m\n\u001b[0;32m      2\u001b[0m \u001b[1;33m\u001b[0m\u001b[0m\n\u001b[1;32m----> 3\u001b[1;33m \u001b[0mpred\u001b[0m\u001b[1;33m.\u001b[0m\u001b[0mto_csv\u001b[0m\u001b[1;33m(\u001b[0m\u001b[1;34m'prediction.csv'\u001b[0m\u001b[1;33m,\u001b[0m \u001b[0mindex\u001b[0m\u001b[1;33m=\u001b[0m\u001b[1;32mNone\u001b[0m\u001b[1;33m)\u001b[0m\u001b[1;33m\u001b[0m\u001b[1;33m\u001b[0m\u001b[0m\n\u001b[0m",
      "\u001b[1;31mAttributeError\u001b[0m: 'numpy.ndarray' object has no attribute 'to_csv'"
     ]
    }
   ],
   "source": [
    "#To export prediction in CSV\n",
    "\n",
    "pred.to_csv('prediction.csv', index=None)"
   ]
  },
  {
   "cell_type": "code",
   "execution_count": 38,
   "metadata": {},
   "outputs": [
    {
     "ename": "AttributeError",
     "evalue": "'numpy.ndarray' object has no attribute 'to_csv'",
     "output_type": "error",
     "traceback": [
      "\u001b[1;31m---------------------------------------------------------------------------\u001b[0m",
      "\u001b[1;31mAttributeError\u001b[0m                            Traceback (most recent call last)",
      "\u001b[1;32m<ipython-input-38-97664b283ace>\u001b[0m in \u001b[0;36m<module>\u001b[1;34m\u001b[0m\n\u001b[0;32m      1\u001b[0m \u001b[1;31m#To export prediction in CSV\u001b[0m\u001b[1;33m\u001b[0m\u001b[1;33m\u001b[0m\u001b[1;33m\u001b[0m\u001b[0m\n\u001b[0;32m      2\u001b[0m \u001b[1;33m\u001b[0m\u001b[0m\n\u001b[1;32m----> 3\u001b[1;33m \u001b[0mpred\u001b[0m\u001b[1;33m.\u001b[0m\u001b[0mto_csv\u001b[0m\u001b[1;33m(\u001b[0m\u001b[1;34m'prediction.csv'\u001b[0m\u001b[1;33m,\u001b[0m \u001b[0mindex\u001b[0m\u001b[1;33m=\u001b[0m\u001b[1;32mNone\u001b[0m\u001b[1;33m)\u001b[0m\u001b[1;33m\u001b[0m\u001b[1;33m\u001b[0m\u001b[0m\n\u001b[0m",
      "\u001b[1;31mAttributeError\u001b[0m: 'numpy.ndarray' object has no attribute 'to_csv'"
     ]
    }
   ],
   "source": [
    "#To export prediction in CSV\n",
    "\n",
    "pred.to_csv('prediction.csv', index=None)"
   ]
  },
  {
   "cell_type": "code",
   "execution_count": 39,
   "metadata": {},
   "outputs": [
    {
     "name": "stdout",
     "output_type": "stream",
     "text": [
      "lasso\n",
      "-------\n",
      "R^2:  0.3184136450162349\n",
      "MAE:  93345.59456106214\n",
      "ridge\n",
      "-------\n",
      "R^2:  0.31949555875529545\n",
      "MAE:  93273.77113977699\n",
      "enet\n",
      "-------\n",
      "R^2:  0.3268230523634337\n",
      "MAE:  94186.9415534068\n",
      "rf\n",
      "-------\n",
      "R^2:  0.46293692342334447\n",
      "MAE:  79577.82661803713\n",
      "gb\n",
      "-------\n",
      "R^2:  0.43289910050846125\n",
      "MAE:  82212.91094483633\n"
     ]
    },
    {
     "name": "stderr",
     "output_type": "stream",
     "text": [
      "C:\\Users\\KADEJO FOLASADE\\Anaconda3\\lib\\site-packages\\sklearn\\pipeline.py:331: DataConversionWarning: Data with input dtype int64, float64 were all converted to float64 by StandardScaler.\n",
      "  Xt = transform.transform(Xt)\n",
      "C:\\Users\\KADEJO FOLASADE\\Anaconda3\\lib\\site-packages\\sklearn\\pipeline.py:331: DataConversionWarning: Data with input dtype int64, float64 were all converted to float64 by StandardScaler.\n",
      "  Xt = transform.transform(Xt)\n",
      "C:\\Users\\KADEJO FOLASADE\\Anaconda3\\lib\\site-packages\\sklearn\\pipeline.py:331: DataConversionWarning: Data with input dtype int64, float64 were all converted to float64 by StandardScaler.\n",
      "  Xt = transform.transform(Xt)\n",
      "C:\\Users\\KADEJO FOLASADE\\Anaconda3\\lib\\site-packages\\sklearn\\pipeline.py:331: DataConversionWarning: Data with input dtype int64, float64 were all converted to float64 by StandardScaler.\n",
      "  Xt = transform.transform(Xt)\n",
      "C:\\Users\\KADEJO FOLASADE\\Anaconda3\\lib\\site-packages\\sklearn\\pipeline.py:331: DataConversionWarning: Data with input dtype int64, float64 were all converted to float64 by StandardScaler.\n",
      "  Xt = transform.transform(Xt)\n"
     ]
    }
   ],
   "source": [
    "# Code here\n",
    "for name, model in fitted_models.items(): \n",
    "    pred_var = model.predict(X_test)\n",
    "    print(name)\n",
    "    print('-------')\n",
    "    print('R^2: ', r2_score(y_test, pred_var))\n",
    "    print('MAE: ', mean_absolute_error(y_test, pred_var))"
   ]
  },
  {
   "cell_type": "code",
   "execution_count": 40,
   "metadata": {},
   "outputs": [
    {
     "name": "stderr",
     "output_type": "stream",
     "text": [
      "C:\\Users\\KADEJO FOLASADE\\Anaconda3\\lib\\site-packages\\sklearn\\pipeline.py:331: DataConversionWarning: Data with input dtype int64, float64 were all converted to float64 by StandardScaler.\n",
      "  Xt = transform.transform(Xt)\n"
     ]
    },
    {
     "data": {
      "image/png": "[encoded data removed]",
      "text/plain": [
       "<Figure size 432x288 with 1 Axes>"
      ]
     },
     "metadata": {
      "needs_background": "light"
     },
     "output_type": "display_data"
    }
   ],
   "source": [
    "gb_pred = fitted_models['rf'].predict(X_test)\n",
    "plt.scatter(gb_pred, y_test)\n",
    "plt.xlabel('predicted')\n",
    "plt.ylabel('actual')\n",
    "plt.show()"
   ]
  },
  {
   "cell_type": "code",
   "execution_count": 41,
   "metadata": {},
   "outputs": [
    {
     "data": {
      "text/plain": [
       "sklearn.model_selection._search.GridSearchCV"
      ]
     },
     "execution_count": 41,
     "metadata": {},
     "output_type": "execute_result"
    }
   ],
   "source": [
    "type(fitted_models['rf'])"
   ]
  },
  {
   "cell_type": "code",
   "execution_count": 42,
   "metadata": {},
   "outputs": [
    {
     "data": {
      "text/plain": [
       "sklearn.pipeline.Pipeline"
      ]
     },
     "execution_count": 42,
     "metadata": {},
     "output_type": "execute_result"
    }
   ],
   "source": [
    "type(fitted_models['rf'].best_estimator_)"
   ]
  },
  {
   "cell_type": "code",
   "execution_count": 43,
   "metadata": {},
   "outputs": [
    {
     "data": {
      "text/plain": [
       "Pipeline(memory=None,\n",
       "     steps=[('standardscaler', StandardScaler(copy=True, with_mean=True, with_std=True)), ('randomforestregressor', RandomForestRegressor(bootstrap=True, criterion='mse', max_depth=None,\n",
       "           max_features=0.33, max_leaf_nodes=None,\n",
       "           min_impurity_decrease=0.0, min_impurity_split=None,\n",
       "           min_samples_leaf=1, min_samples_split=2,\n",
       "           min_weight_fraction_leaf=0.0, n_estimators=200, n_jobs=None,\n",
       "           oob_score=False, random_state=123, verbose=0, warm_start=False))])"
      ]
     },
     "execution_count": 43,
     "metadata": {},
     "output_type": "execute_result"
    }
   ],
   "source": [
    "fitted_models['rf'].best_estimator_"
   ]
  },
  {
   "cell_type": "code",
   "execution_count": 44,
   "metadata": {},
   "outputs": [],
   "source": [
    "import pickle"
   ]
  },
  {
   "cell_type": "code",
   "execution_count": 45,
   "metadata": {},
   "outputs": [],
   "source": [
    "with open('final_model.pkl', 'wb') as f:\n",
    "    pickle.dump(fitted_models['rf'].best_estimator_, f)"
   ]
  },
  {
   "cell_type": "code",
   "execution_count": null,
   "metadata": {},
   "outputs": [],
   "source": []
  }
 ],
 "metadata": {
  "kernelspec": {
   "display_name": "Python 3",
   "language": "python",
   "name": "python3"
  },
  "language_info": {
   "codemirror_mode": {
    "name": "ipython",
    "version": 3
   },
   "file_extension": ".py",
   "mimetype": "text/x-python",
   "name": "python",
   "nbconvert_exporter": "python",
   "pygments_lexer": "ipython3",
   "version": "3.7.1"
  }
 },
 "nbformat": 4,
 "nbformat_minor": 2
}
